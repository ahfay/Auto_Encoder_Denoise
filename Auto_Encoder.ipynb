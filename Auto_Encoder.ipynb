{
 "cells": [
  {
   "cell_type": "code",
   "execution_count": null,
   "metadata": {
    "id": "QCOYpPtyuRUu"
   },
   "outputs": [],
   "source": [
    "!unzip kotak_noise.zip\n",
    "!unzip target.zip\n",
    "!unzip soal.zip"
   ]
  },
  {
   "cell_type": "code",
   "execution_count": null,
   "metadata": {
    "colab": {
     "base_uri": "https://localhost:8080/"
    },
    "id": "_1CwcyAlw3KM",
    "outputId": "1b33be6e-5496-45ed-966a-9021fd9a7a95"
   },
   "outputs": [
    {
     "name": "stdout",
     "output_type": "stream",
     "text": [
      "(24, 24, 3)\n"
     ]
    }
   ],
   "source": [
    "import cv2 \n",
    "import matplotlib.pyplot as plt\n",
    "\n",
    "c = cv2.imread('target/0.bmp')\n",
    "print(c.shape)"
   ]
  },
  {
   "cell_type": "code",
   "execution_count": null,
   "metadata": {
    "id": "UE-Zm6-CxLe8"
   },
   "outputs": [],
   "source": [
    "import glob\n",
    "import numpy as np\n",
    "\n",
    "X = []\n",
    "Y = []\n",
    "\n",
    "for i in range(10000):\n",
    "  img = cv2.imread('kotak_noise/'+str(i)+'.bmp')\n",
    "  img = cv2.resize(img, (24,24))/255\n",
    "  X.append(img)\n",
    "\n",
    "for i in range(10000):\n",
    "  img = cv2.imread('target/'+str(i)+'.bmp')\n",
    "  img = cv2.resize(img, (24,24))/255\n",
    "  Y.append(img)\n",
    "\n",
    "X = np.asarray(X).astype(float)\n",
    "Y = np.asarray(Y).astype(float)"
   ]
  },
  {
   "cell_type": "code",
   "execution_count": null,
   "metadata": {
    "colab": {
     "base_uri": "https://localhost:8080/",
     "height": 282
    },
    "id": "-G0DOfAPwS3z",
    "outputId": "00e5f98d-a1c9-4415-f848-d61d4592b53c"
   },
   "outputs": [
    {
     "data": {
      "text/plain": [
       "<matplotlib.image.AxesImage at 0x7f3599dfa3a0>"
      ]
     },
     "execution_count": 10,
     "metadata": {},
     "output_type": "execute_result"
    },
    {
     "data": {
      "image/png": "[encoded data removed]",
      "text/plain": [
       "<Figure size 432x288 with 1 Axes>"
      ]
     },
     "metadata": {
      "needs_background": "light"
     },
     "output_type": "display_data"
    }
   ],
   "source": [
    "plt.imshow(X[0])"
   ]
  },
  {
   "cell_type": "code",
   "execution_count": null,
   "metadata": {
    "colab": {
     "base_uri": "https://localhost:8080/",
     "height": 282
    },
    "id": "2N7Vby1P1VVY",
    "outputId": "a805eb97-d658-4e12-9d42-19b24cbb4d70"
   },
   "outputs": [
    {
     "data": {
      "text/plain": [
       "<matplotlib.image.AxesImage at 0x7f3599f3fd60>"
      ]
     },
     "execution_count": 11,
     "metadata": {},
     "output_type": "execute_result"
    },
    {
     "data": {
      "image/png": "[encoded data removed]",
      "text/plain": [
       "<Figure size 432x288 with 1 Axes>"
      ]
     },
     "metadata": {
      "needs_background": "light"
     },
     "output_type": "display_data"
    }
   ],
   "source": [
    "plt.imshow(Y[0])"
   ]
  },
  {
   "cell_type": "code",
   "execution_count": null,
   "metadata": {
    "id": "L5UC2u5WqUEA"
   },
   "outputs": [],
   "source": [
    "from tensorflow.keras.models import Sequential, Model\n",
    "from tensorflow.keras.layers import Conv2D, Conv2DTranspose\n",
    "import tensorflow as tf\n",
    "\n",
    "enc = Sequential()\n",
    "enc.add(Conv2D(8, (3,3), input_shape=(24, 24, 3), strides=2, padding='same', activation='relu'))\n",
    "enc.add(Conv2D(16, (3,3), strides=2, padding='same', activation='relu'))\n",
    "\n",
    "dec1 = Sequential()\n",
    "dec1.add(Conv2DTranspose(16, (3, 3), padding='same', strides=2, activation='relu'))\n",
    "dec1.add(Conv2DTranspose(8, (3, 3), strides=2, padding='same', activation='relu'))\n",
    "dec1.add(Conv2D(3, (3, 3), padding='same', activation='sigmoid'))\n",
    "\n",
    "dec2 = Sequential()\n",
    "dec2.add(Conv2DTranspose(16, (3, 3), padding='same', strides=2, activation='relu'))\n",
    "dec2.add(Conv2DTranspose(8, (3, 3), strides=2, padding='same', activation='relu'))\n",
    "dec2.add(Conv2D(3, (3, 3), padding='same', activation='sigmoid'))\n",
    "\n",
    "class AE1(Model):\n",
    "    def __init__(self):\n",
    "        super(AE1, self).__init__()\n",
    "        self.enc = enc\n",
    "        self.dec1 = dec1\n",
    "        \n",
    "    def call(self, x):\n",
    "        _ = self.enc(x)\n",
    "        _ = self.dec1(_)\n",
    "        return _\n",
    "    \n",
    "ae1 = AE1()\n",
    "ae1.compile(optimizer='adam', loss='mse')\n",
    "\n",
    "class AE2(Model):\n",
    "    def __init__(self):\n",
    "        super(AE2, self).__init__()\n",
    "        #self.enc = enc \n",
    "        self.dec2 = dec2\n",
    "        \n",
    "    def call(self, x):\n",
    "        _ = ae1.enc(x)\n",
    "        _ = self.dec2(_)\n",
    "        return _\n",
    "    \n",
    "ae2 = AE2()\n",
    "ae2.compile(optimizer='adam', loss='mse')"
   ]
  },
  {
   "cell_type": "code",
   "execution_count": null,
   "metadata": {
    "id": "S7j6RSqzqvxe"
   },
   "outputs": [],
   "source": [
    "callback = tf.keras.callbacks.EarlyStopping(monitor='loss', patience=3)\n",
    "ae1.fit(X, X, batch_size=2, epochs=100, validation_split=0.2, callbacks=[callback])\n",
    "ae2.fit(X, Y, batch_size=2, epochs=100, validation_split=0.2, callbacks=[callback])"
   ]
  },
  {
   "cell_type": "code",
   "execution_count": null,
   "metadata": {
    "id": "_tTkOqmBt_kn"
   },
   "outputs": [],
   "source": [
    "sidik = ae1.enc(X[:])\n",
    "Pred = ae2.dec2(sidik)"
   ]
  },
  {
   "cell_type": "code",
   "execution_count": null,
   "metadata": {
    "colab": {
     "base_uri": "https://localhost:8080/",
     "height": 282
    },
    "id": "5RgWUvJ8uIrD",
    "outputId": "fb583767-8c53-4ebf-d7b6-3949746d467c"
   },
   "outputs": [
    {
     "data": {
      "text/plain": [
       "<matplotlib.image.AxesImage at 0x7f3593761c70>"
      ]
     },
     "execution_count": 77,
     "metadata": {},
     "output_type": "execute_result"
    },
    {
     "data": {
      "image/png": "[encoded data removed]",
      "text/plain": [
       "<Figure size 432x288 with 1 Axes>"
      ]
     },
     "metadata": {
      "needs_background": "light"
     },
     "output_type": "display_data"
    }
   ],
   "source": [
    "plt.imshow(Pred[3])"
   ]
  },
  {
   "cell_type": "code",
   "execution_count": null,
   "metadata": {
    "colab": {
     "base_uri": "https://localhost:8080/",
     "height": 282
    },
    "id": "XT5IyLhtuYnu",
    "outputId": "00c09685-16c6-4388-b6cb-58ac739a4567"
   },
   "outputs": [
    {
     "data": {
      "text/plain": [
       "<matplotlib.image.AxesImage at 0x7f358f2960d0>"
      ]
     },
     "execution_count": 78,
     "metadata": {},
     "output_type": "execute_result"
    },
    {
     "data": {
      "image/png": "[encoded data removed]",
      "text/plain": [
       "<Figure size 432x288 with 1 Axes>"
      ]
     },
     "metadata": {
      "needs_background": "light"
     },
     "output_type": "display_data"
    }
   ],
   "source": [
    "plt.imshow(Y[3])"
   ]
  },
  {
   "cell_type": "code",
   "execution_count": null,
   "metadata": {
    "colab": {
     "base_uri": "https://localhost:8080/",
     "height": 282
    },
    "id": "h444AjUSSzrw",
    "outputId": "dc7ea662-03a4-4ab4-e877-7c7fad877737"
   },
   "outputs": [
    {
     "data": {
      "text/plain": [
       "(24, 24, 3)"
      ]
     },
     "execution_count": 96,
     "metadata": {},
     "output_type": "execute_result"
    },
    {
     "data": {
      "image/png": "[encoded data removed]",
      "text/plain": [
       "<Figure size 432x288 with 1 Axes>"
      ]
     },
     "metadata": {
      "needs_background": "light"
     },
     "output_type": "display_data"
    }
   ],
   "source": [
    "soal = cv2.imread('soal/999.bmp')\n",
    "plt.imshow(soal)\n",
    "soal.shape"
   ]
  },
  {
   "cell_type": "code",
   "execution_count": null,
   "metadata": {
    "id": "bRRIlweRShuG"
   },
   "outputs": [],
   "source": [
    "X_soal = []\n",
    "\n",
    "for i in range(1000):\n",
    "  img = cv2.imread('soal/'+str(i)+'.bmp')\n",
    "  img = cv2.resize(img, (24,24))/255\n",
    "  X_soal.append(img)\n",
    "\n",
    "X_soal = np.asarray(X_soal).astype(float)"
   ]
  },
  {
   "cell_type": "code",
   "execution_count": null,
   "metadata": {
    "colab": {
     "base_uri": "https://localhost:8080/"
    },
    "id": "l4iiSbMhTXbx",
    "outputId": "3d9fe2a1-b571-4e04-e67f-47a2d36b5f8c"
   },
   "outputs": [
    {
     "data": {
      "text/plain": [
       "(1000, 24, 24, 3)"
      ]
     },
     "execution_count": 92,
     "metadata": {},
     "output_type": "execute_result"
    }
   ],
   "source": [
    "X_soal.shape"
   ]
  },
  {
   "cell_type": "code",
   "execution_count": null,
   "metadata": {
    "id": "KH4_uoqZTcAv"
   },
   "outputs": [],
   "source": [
    "sidik = ae1.enc(X_soal[:])\n",
    "Pred_kuis = ae2.dec2(sidik)"
   ]
  },
  {
   "cell_type": "code",
   "execution_count": null,
   "metadata": {
    "colab": {
     "base_uri": "https://localhost:8080/",
     "height": 282
    },
    "id": "G3IjLNPwTlRp",
    "outputId": "54179152-0ae1-46ef-a386-ba755f6f9381"
   },
   "outputs": [
    {
     "data": {
      "text/plain": [
       "<matplotlib.image.AxesImage at 0x7f358edf12b0>"
      ]
     },
     "execution_count": 143,
     "metadata": {},
     "output_type": "execute_result"
    },
    {
     "data": {
      "image/png": "[encoded data removed]",
      "text/plain": [
       "<Figure size 432x288 with 1 Axes>"
      ]
     },
     "metadata": {
      "needs_background": "light"
     },
     "output_type": "display_data"
    }
   ],
   "source": [
    "plt.imshow(Pred_kuis[0])"
   ]
  },
  {
   "cell_type": "code",
   "execution_count": null,
   "metadata": {
    "id": "KIITyvZ6T7VY"
   },
   "outputs": [],
   "source": [
    "!mkdir Jawaban"
   ]
  },
  {
   "cell_type": "code",
   "execution_count": null,
   "metadata": {
    "id": "mKf5_emuTx6d"
   },
   "outputs": [],
   "source": [
    "# Mengiterasi setiap gambar dalam hasil predict\n",
    "for i, image in enumerate(Pred_kuis):\n",
    "    image = np.squeeze(image)\n",
    "    image = image*255\n",
    "    cv2.imwrite('Jawaban/'+str(i)+'.bmp', image)"
   ]
  },
  {
   "cell_type": "code",
   "execution_count": null,
   "metadata": {
    "colab": {
     "base_uri": "https://localhost:8080/",
     "height": 217
    },
    "id": "h1g-ewIvWUKP",
    "outputId": "89ea625b-a4f6-4ca5-f6f8-351d673a136b"
   },
   "outputs": [
    {
     "name": "stdout",
     "output_type": "stream",
     "text": [
      "772\n"
     ]
    },
    {
     "data": {
      "text/plain": [
       "<function matplotlib.pyplot.imshow(X, cmap=None, norm=None, aspect=None, interpolation=None, alpha=None, vmin=None, vmax=None, origin=None, extent=None, shape=<deprecated parameter>, filternorm=1, filterrad=4.0, imlim=<deprecated parameter>, resample=None, url=None, *, data=None, **kwargs)>"
      ]
     },
     "execution_count": 169,
     "metadata": {},
     "output_type": "execute_result"
    },
    {
     "data": {
      "image/png": "[encoded data removed]",
      "text/plain": [
       "<Figure size 432x288 with 3 Axes>"
      ]
     },
     "metadata": {
      "needs_background": "light"
     },
     "output_type": "display_data"
    }
   ],
   "source": [
    "import random\n",
    "x = random.randint(0, 1000)\n",
    "print(x)\n",
    "fig , (a,b,c) = plt.subplots(nrows=1, ncols=3)\n",
    "\n",
    "a.imshow(Pred_kuis[x])\n",
    "jwb = cv2.imread('Jawaban/'+str(x)+'.bmp')\n",
    "sl = cv2.imread('soal/'+str(x)+'.bmp')\n",
    "b.imshow(jwb)\n",
    "c.imshow(sl)\n",
    "plt.imshow"
   ]
  },
  {
   "cell_type": "code",
   "execution_count": null,
   "metadata": {
    "id": "ZiteeOzWVj9J"
   },
   "outputs": [],
   "source": [
    " !zip -r Jawaban.zip /content/Jawaban"
   ]
  }
 ],
 "metadata": {
  "colab": {
   "provenance": []
  },
  "kernelspec": {
   "display_name": "Python 3",
   "language": "python",
   "name": "python3"
  },
  "language_info": {
   "codemirror_mode": {
    "name": "ipython",
    "version": 3
   },
   "file_extension": ".py",
   "mimetype": "text/x-python",
   "name": "python",
   "nbconvert_exporter": "python",
   "pygments_lexer": "ipython3",
   "version": "3.8.3"
  }
 },
 "nbformat": 4,
 "nbformat_minor": 1
}
